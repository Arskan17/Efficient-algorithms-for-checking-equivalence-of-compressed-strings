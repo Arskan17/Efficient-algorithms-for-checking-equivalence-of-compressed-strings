{
 "cells": [
  {
   "cell_type": "code",
   "execution_count": 3,
   "id": "80725027",
   "metadata": {},
   "outputs": [],
   "source": [
    "from re_pair import main\n",
    "import json"
   ]
  },
  {
   "cell_type": "code",
   "execution_count": 5,
   "id": "c6917d82",
   "metadata": {},
   "outputs": [
    {
     "name": "stdout",
     "output_type": "stream",
     "text": [
      "############### 1-A-KiB ###############\n",
      "\n",
      "Start symbol: A\n",
      "Grammar size: 291\n",
      "############### 1-B-KiB ###############\n",
      "\n",
      "Start symbol: B\n",
      "Grammar size: 291\n"
     ]
    }
   ],
   "source": [
    "# 16KiB of text from the pizza&chille corpus dna.50MB\n",
    "sizes = [1]\n",
    "for size in sizes:\n",
    "    try:\n",
    "        with open(\"../pizza&chille corpus/dna.50MB\", \"r\", encoding=\"utf-8\", errors=\"replace\") as file:\n",
    "            si = size\n",
    "            text = file.read(1024*si)\n",
    "            # text = \"ababaabc\"\n",
    "\n",
    "        S = 'A'\n",
    "        print(f\"############### {si}-{S}-KiB ###############\")\n",
    "        start, rules = main(text, S)\n",
    "        with open(f'../testing_dataset/pizza&chille corpus_SLP/dna-{si}KiB-{S}.json', 'w', encoding='utf-8') as f:\n",
    "            json.dump(rules, f, ensure_ascii=False, indent=4)\n",
    "        print(\"\\nStart symbol:\", start)\n",
    "        print(\"Grammar size:\", len(rules))\n",
    "\n",
    "        S = 'B'\n",
    "        print(f\"############### {si}-{S}-KiB ###############\")\n",
    "        start, rules = main(text, S)\n",
    "        with open(f'../testing_dataset/pizza&chille corpus_SLP/dna-{si}KiB-{S}.json', 'w', encoding='utf-8') as f:\n",
    "            json.dump(rules, f, ensure_ascii=False, indent=4)\n",
    "        print(\"\\nStart symbol:\", start)\n",
    "        print(\"Grammar size:\", len(rules))\n",
    "    except UnicodeDecodeError as e:\n",
    "        print(f\"Error decoding file: {e}\")"
   ]
  },
  {
   "cell_type": "code",
   "execution_count": 5,
   "id": "68c06fe8",
   "metadata": {},
   "outputs": [
    {
     "data": {
      "text/plain": [
       "('A',\n",
       " {'A4': ('a', 'b'),\n",
       "  'A': ('A4', 'A5'),\n",
       "  'A5': ('b', 'A6'),\n",
       "  'A6': ('b', 'A7'),\n",
       "  'A7': ('a', 'A8'),\n",
       "  'A8': ('A4', 'c')})"
      ]
     },
     "execution_count": 5,
     "metadata": {},
     "output_type": "execute_result"
    }
   ],
   "source": [
    "text = \"abbbaabc\"\n",
    "\n",
    "main(text, 'A')"
   ]
  },
  {
   "cell_type": "code",
   "execution_count": 1,
   "id": "fb3f3f58",
   "metadata": {},
   "outputs": [],
   "source": [
    "import re_pair_0\n",
    "import re_pair_1\n",
    "import json"
   ]
  },
  {
   "cell_type": "code",
   "execution_count": 6,
   "id": "9ec679c7",
   "metadata": {},
   "outputs": [
    {
     "name": "stdout",
     "output_type": "stream",
     "text": [
      "############### 1-A-KiB ###############\n",
      "\n",
      "Start symbol: A\n",
      "Grammar size: 290\n",
      "############### 1-B-KiB ###############\n",
      "\n",
      "Start symbol: B\n",
      "Grammar size: 290\n"
     ]
    }
   ],
   "source": [
    "\n",
    "sizes = [1]\n",
    "for size in sizes:\n",
    "    try:\n",
    "        with open(\"../pizza&chille corpus/dna.50MB\", \"r\", encoding=\"utf-8\", errors=\"replace\") as file:\n",
    "            si = size\n",
    "            text = file.read(1024*si)\n",
    "            # text = \"ababaabc\"\n",
    "\n",
    "        S = 'A'\n",
    "        print(f\"############### {si}-{S}-KiB ###############\")\n",
    "        rules = re_pair_0.re_pair(text, S)\n",
    "        with open(f'../testing_dataset/pizza&chille corpus_SLP/dna-{si}KiB-{S}.json', 'w', encoding='utf-8') as f:\n",
    "            json.dump(rules, f, ensure_ascii=False, indent=2)\n",
    "        print(\"\\nStart symbol:\", list(rules.keys())[-1])\n",
    "        print(\"Grammar size:\", len(rules))\n",
    "\n",
    "        S = 'B'\n",
    "        print(f\"############### {si}-{S}-KiB ###############\")\n",
    "        rules = re_pair_1.re_pair(text, S)\n",
    "        with open(f'../testing_dataset/pizza&chille corpus_SLP/dna-{si}KiB-{S}.json', 'w', encoding='utf-8') as f:\n",
    "            json.dump(rules, f, ensure_ascii=False, indent=2)\n",
    "        print(\"\\nStart symbol:\", list(rules.keys())[-1])\n",
    "        print(\"Grammar size:\", len(rules))\n",
    "    except UnicodeDecodeError as e:\n",
    "        print(f\"Error decoding file: {e}\")"
   ]
  }
 ],
 "metadata": {
  "kernelspec": {
   "display_name": ".venv",
   "language": "python",
   "name": "python3"
  },
  "language_info": {
   "codemirror_mode": {
    "name": "ipython",
    "version": 3
   },
   "file_extension": ".py",
   "mimetype": "text/x-python",
   "name": "python",
   "nbconvert_exporter": "python",
   "pygments_lexer": "ipython3",
   "version": "3.13.0"
  }
 },
 "nbformat": 4,
 "nbformat_minor": 5
}
